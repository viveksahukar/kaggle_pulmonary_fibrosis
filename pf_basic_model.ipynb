{
  "nbformat": 4,
  "nbformat_minor": 0,
  "metadata": {
    "colab": {
      "name": "pf_basic_model.ipynb",
      "provenance": [],
      "authorship_tag": "ABX9TyM0Ag1LX5c3eAOGRMjSTgdA",
      "include_colab_link": true
    },
    "kernelspec": {
      "name": "python3",
      "display_name": "Python 3"
    }
  },
  "cells": [
    {
      "cell_type": "markdown",
      "metadata": {
        "id": "view-in-github",
        "colab_type": "text"
      },
      "source": [
        "<a href=\"https://colab.research.google.com/github/viveksahukar/kaggle_pulmonary_fibrosis/blob/master/pf_basic_model.ipynb\" target=\"_parent\"><img src=\"https://colab.research.google.com/assets/colab-badge.svg\" alt=\"Open In Colab\"/></a>"
      ]
    },
    {
      "cell_type": "code",
      "metadata": {
        "id": "rTyo7Lb5fNIL",
        "colab_type": "code",
        "colab": {}
      },
      "source": [
        "#basic text"
      ],
      "execution_count": null,
      "outputs": []
    }
  ]
}