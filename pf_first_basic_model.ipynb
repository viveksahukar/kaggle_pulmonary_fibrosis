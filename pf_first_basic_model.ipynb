{
  "nbformat": 4,
  "nbformat_minor": 0,
  "metadata": {
    "colab": {
      "name": "pf_first_basic_model",
      "provenance": [],
      "collapsed_sections": [],
      "machine_shape": "hm",
      "include_colab_link": true
    },
    "kernelspec": {
      "name": "python3",
      "display_name": "Python 3"
    },
    "accelerator": "GPU"
  },
  "cells": [
    {
      "cell_type": "markdown",
      "metadata": {
        "id": "view-in-github",
        "colab_type": "text"
      },
      "source": [
        "<a href=\"https://colab.research.google.com/github/viveksahukar/kaggle_pulmonary_fibrosis/blob/master/pf_first_basic_model.ipynb\" target=\"_parent\"><img src=\"https://colab.research.google.com/assets/colab-badge.svg\" alt=\"Open In Colab\"/></a>"
      ]
    },
    {
      "cell_type": "code",
      "metadata": {
        "id": "7vlvU54Diy_Z",
        "colab_type": "code",
        "colab": {}
      },
      "source": [
        "import torch as th\n",
        "import numpy as np\n",
        "import scipy as sp\n",
        "import matplotlib.pyplot as plt\n",
        "import pandas as pd\n",
        "from sklearn.preprocessing import OneHotEncoder"
      ],
      "execution_count": null,
      "outputs": []
    },
    {
      "cell_type": "code",
      "metadata": {
        "id": "5_cWsjWGjlJD",
        "colab_type": "code",
        "colab": {
          "base_uri": "https://localhost:8080/",
          "height": 34
        },
        "outputId": "9ff25623-fc6b-4f0f-da45-0770515993b8"
      },
      "source": [
        "from google.colab import drive\n",
        "drive.mount('/content/gdrive')"
      ],
      "execution_count": null,
      "outputs": [
        {
          "output_type": "stream",
          "text": [
            "Drive already mounted at /content/gdrive; to attempt to forcibly remount, call drive.mount(\"/content/gdrive\", force_remount=True).\n"
          ],
          "name": "stdout"
        }
      ]
    },
    {
      "cell_type": "code",
      "metadata": {
        "id": "GDy7yJbyjol7",
        "colab_type": "code",
        "colab": {}
      },
      "source": [
        "# Set path to the data\n",
        "import os\n",
        "os.chdir('/content/gdrive/My Drive/colab_work_DS/kaggle_pf/')"
      ],
      "execution_count": null,
      "outputs": []
    },
    {
      "cell_type": "code",
      "metadata": {
        "id": "7rRcjE6kmGJ2",
        "colab_type": "code",
        "colab": {}
      },
      "source": [
        "meta = pd.read_csv('meta_data.csv')"
      ],
      "execution_count": null,
      "outputs": []
    },
    {
      "cell_type": "code",
      "metadata": {
        "id": "45RsC1B5mSJU",
        "colab_type": "code",
        "colab": {
          "base_uri": "https://localhost:8080/",
          "height": 218
        },
        "outputId": "25f97bc7-1662-4077-d3eb-b727072a69ff"
      },
      "source": [
        "meta.Patient.value_counts()"
      ],
      "execution_count": null,
      "outputs": [
        {
          "output_type": "execute_result",
          "data": {
            "text/plain": [
              "ID00078637202199415319443    1018\n",
              "ID00202637202249376026949     825\n",
              "ID00173637202238329754031     602\n",
              "ID00180637202240177410333     577\n",
              "ID00035637202182204917484     574\n",
              "                             ... \n",
              "ID00242637202264759739921      18\n",
              "ID00126637202218610655908      17\n",
              "ID00229637202260254240583      17\n",
              "ID00248637202266698862378      16\n",
              "ID00165637202237320314458      12\n",
              "Name: Patient, Length: 173, dtype: int64"
            ]
          },
          "metadata": {
            "tags": []
          },
          "execution_count": 10
        }
      ]
    },
    {
      "cell_type": "code",
      "metadata": {
        "id": "GcTIH63ImeYl",
        "colab_type": "code",
        "colab": {}
      },
      "source": [
        "train = pd.read_csv('train.csv')"
      ],
      "execution_count": null,
      "outputs": []
    },
    {
      "cell_type": "code",
      "metadata": {
        "id": "x6d_g23UmthC",
        "colab_type": "code",
        "colab": {
          "base_uri": "https://localhost:8080/",
          "height": 218
        },
        "outputId": "72aa4445-b4cc-48ae-b0ef-1196d2bd63cf"
      },
      "source": [
        "train.Patient.value_counts()"
      ],
      "execution_count": null,
      "outputs": [
        {
          "output_type": "execute_result",
          "data": {
            "text/plain": [
              "ID00167637202237397919352    10\n",
              "ID00400637202305055099402    10\n",
              "ID00229637202260254240583    10\n",
              "ID00421637202311550012437    10\n",
              "ID00388637202301028491611    10\n",
              "                             ..\n",
              "ID00344637202287684217717     7\n",
              "ID00381637202299644114027     7\n",
              "ID00186637202242472088675     7\n",
              "ID00267637202270790561585     6\n",
              "ID00047637202184938901501     6\n",
              "Name: Patient, Length: 176, dtype: int64"
            ]
          },
          "metadata": {
            "tags": []
          },
          "execution_count": 12
        }
      ]
    },
    {
      "cell_type": "code",
      "metadata": {
        "id": "-mpe0r1YoZTG",
        "colab_type": "code",
        "colab": {
          "base_uri": "https://localhost:8080/",
          "height": 50
        },
        "outputId": "bc5ea9d2-f370-409a-e015-81d94a2be956"
      },
      "source": [
        "pid = 'ID00007637202177411956430'\n",
        "train[train.Patient == pid].Patient.value_counts()"
      ],
      "execution_count": null,
      "outputs": [
        {
          "output_type": "execute_result",
          "data": {
            "text/plain": [
              "ID00007637202177411956430    9\n",
              "Name: Patient, dtype: int64"
            ]
          },
          "metadata": {
            "tags": []
          },
          "execution_count": 13
        }
      ]
    },
    {
      "cell_type": "code",
      "metadata": {
        "id": "aqP15gSSouJy",
        "colab_type": "code",
        "colab": {
          "base_uri": "https://localhost:8080/",
          "height": 50
        },
        "outputId": "e75e6dec-1b22-492f-cbad-d4aa7d62f3b4"
      },
      "source": [
        "meta[meta.Patient == pid].Patient.value_counts()"
      ],
      "execution_count": null,
      "outputs": [
        {
          "output_type": "execute_result",
          "data": {
            "text/plain": [
              "ID00007637202177411956430    30\n",
              "Name: Patient, dtype: int64"
            ]
          },
          "metadata": {
            "tags": []
          },
          "execution_count": 14
        }
      ]
    },
    {
      "cell_type": "code",
      "metadata": {
        "id": "_vvpZhBYp5QZ",
        "colab_type": "code",
        "colab": {}
      },
      "source": [
        "df_meta = meta.groupby(['Patient']).agg(\n",
        "    {\n",
        "     'img_mean': ['mean', 'std'],\n",
        "     'img_std':['mean', 'std']\n",
        "    }\n",
        ")\n",
        "df_meta.columns = df_meta.columns.map('_'.join)\n",
        "df_meta = df_meta.reset_index()"
      ],
      "execution_count": null,
      "outputs": []
    },
    {
      "cell_type": "code",
      "metadata": {
        "id": "XEtJyuVeoEdG",
        "colab_type": "code",
        "colab": {}
      },
      "source": [
        "df_patient = pd.merge(left=df_meta, right=train, how='left', on='Patient')"
      ],
      "execution_count": null,
      "outputs": []
    },
    {
      "cell_type": "code",
      "metadata": {
        "id": "V0Cm9KggGKWQ",
        "colab_type": "code",
        "colab": {
          "base_uri": "https://localhost:8080/",
          "height": 422
        },
        "outputId": "53b5fb33-2c48-435e-c5bf-ea468be7af5d"
      },
      "source": [
        "df_patient"
      ],
      "execution_count": null,
      "outputs": [
        {
          "output_type": "execute_result",
          "data": {
            "text/html": [
              "<div>\n",
              "<style scoped>\n",
              "    .dataframe tbody tr th:only-of-type {\n",
              "        vertical-align: middle;\n",
              "    }\n",
              "\n",
              "    .dataframe tbody tr th {\n",
              "        vertical-align: top;\n",
              "    }\n",
              "\n",
              "    .dataframe thead th {\n",
              "        text-align: right;\n",
              "    }\n",
              "</style>\n",
              "<table border=\"1\" class=\"dataframe\">\n",
              "  <thead>\n",
              "    <tr style=\"text-align: right;\">\n",
              "      <th></th>\n",
              "      <th>Patient</th>\n",
              "      <th>img_mean_mean</th>\n",
              "      <th>img_mean_std</th>\n",
              "      <th>img_std_mean</th>\n",
              "      <th>img_std_std</th>\n",
              "      <th>Weeks</th>\n",
              "      <th>FVC</th>\n",
              "      <th>Percent</th>\n",
              "      <th>Age</th>\n",
              "      <th>Sex</th>\n",
              "      <th>SmokingStatus</th>\n",
              "    </tr>\n",
              "  </thead>\n",
              "  <tbody>\n",
              "    <tr>\n",
              "      <th>0</th>\n",
              "      <td>ID00007637202177411956430</td>\n",
              "      <td>97.884207</td>\n",
              "      <td>74.272910</td>\n",
              "      <td>1175.873703</td>\n",
              "      <td>28.845099</td>\n",
              "      <td>-4</td>\n",
              "      <td>2315</td>\n",
              "      <td>58.253649</td>\n",
              "      <td>79</td>\n",
              "      <td>Male</td>\n",
              "      <td>Ex-smoker</td>\n",
              "    </tr>\n",
              "    <tr>\n",
              "      <th>1</th>\n",
              "      <td>ID00007637202177411956430</td>\n",
              "      <td>97.884207</td>\n",
              "      <td>74.272910</td>\n",
              "      <td>1175.873703</td>\n",
              "      <td>28.845099</td>\n",
              "      <td>5</td>\n",
              "      <td>2214</td>\n",
              "      <td>55.712129</td>\n",
              "      <td>79</td>\n",
              "      <td>Male</td>\n",
              "      <td>Ex-smoker</td>\n",
              "    </tr>\n",
              "    <tr>\n",
              "      <th>2</th>\n",
              "      <td>ID00007637202177411956430</td>\n",
              "      <td>97.884207</td>\n",
              "      <td>74.272910</td>\n",
              "      <td>1175.873703</td>\n",
              "      <td>28.845099</td>\n",
              "      <td>7</td>\n",
              "      <td>2061</td>\n",
              "      <td>51.862104</td>\n",
              "      <td>79</td>\n",
              "      <td>Male</td>\n",
              "      <td>Ex-smoker</td>\n",
              "    </tr>\n",
              "    <tr>\n",
              "      <th>3</th>\n",
              "      <td>ID00007637202177411956430</td>\n",
              "      <td>97.884207</td>\n",
              "      <td>74.272910</td>\n",
              "      <td>1175.873703</td>\n",
              "      <td>28.845099</td>\n",
              "      <td>9</td>\n",
              "      <td>2144</td>\n",
              "      <td>53.950679</td>\n",
              "      <td>79</td>\n",
              "      <td>Male</td>\n",
              "      <td>Ex-smoker</td>\n",
              "    </tr>\n",
              "    <tr>\n",
              "      <th>4</th>\n",
              "      <td>ID00007637202177411956430</td>\n",
              "      <td>97.884207</td>\n",
              "      <td>74.272910</td>\n",
              "      <td>1175.873703</td>\n",
              "      <td>28.845099</td>\n",
              "      <td>11</td>\n",
              "      <td>2069</td>\n",
              "      <td>52.063412</td>\n",
              "      <td>79</td>\n",
              "      <td>Male</td>\n",
              "      <td>Ex-smoker</td>\n",
              "    </tr>\n",
              "    <tr>\n",
              "      <th>...</th>\n",
              "      <td>...</td>\n",
              "      <td>...</td>\n",
              "      <td>...</td>\n",
              "      <td>...</td>\n",
              "      <td>...</td>\n",
              "      <td>...</td>\n",
              "      <td>...</td>\n",
              "      <td>...</td>\n",
              "      <td>...</td>\n",
              "      <td>...</td>\n",
              "      <td>...</td>\n",
              "    </tr>\n",
              "    <tr>\n",
              "      <th>1519</th>\n",
              "      <td>ID00426637202313170790466</td>\n",
              "      <td>535.176502</td>\n",
              "      <td>60.303555</td>\n",
              "      <td>497.187228</td>\n",
              "      <td>15.569531</td>\n",
              "      <td>13</td>\n",
              "      <td>2712</td>\n",
              "      <td>66.594637</td>\n",
              "      <td>73</td>\n",
              "      <td>Male</td>\n",
              "      <td>Never smoked</td>\n",
              "    </tr>\n",
              "    <tr>\n",
              "      <th>1520</th>\n",
              "      <td>ID00426637202313170790466</td>\n",
              "      <td>535.176502</td>\n",
              "      <td>60.303555</td>\n",
              "      <td>497.187228</td>\n",
              "      <td>15.569531</td>\n",
              "      <td>19</td>\n",
              "      <td>2978</td>\n",
              "      <td>73.126412</td>\n",
              "      <td>73</td>\n",
              "      <td>Male</td>\n",
              "      <td>Never smoked</td>\n",
              "    </tr>\n",
              "    <tr>\n",
              "      <th>1521</th>\n",
              "      <td>ID00426637202313170790466</td>\n",
              "      <td>535.176502</td>\n",
              "      <td>60.303555</td>\n",
              "      <td>497.187228</td>\n",
              "      <td>15.569531</td>\n",
              "      <td>31</td>\n",
              "      <td>2908</td>\n",
              "      <td>71.407524</td>\n",
              "      <td>73</td>\n",
              "      <td>Male</td>\n",
              "      <td>Never smoked</td>\n",
              "    </tr>\n",
              "    <tr>\n",
              "      <th>1522</th>\n",
              "      <td>ID00426637202313170790466</td>\n",
              "      <td>535.176502</td>\n",
              "      <td>60.303555</td>\n",
              "      <td>497.187228</td>\n",
              "      <td>15.569531</td>\n",
              "      <td>43</td>\n",
              "      <td>2975</td>\n",
              "      <td>73.052745</td>\n",
              "      <td>73</td>\n",
              "      <td>Male</td>\n",
              "      <td>Never smoked</td>\n",
              "    </tr>\n",
              "    <tr>\n",
              "      <th>1523</th>\n",
              "      <td>ID00426637202313170790466</td>\n",
              "      <td>535.176502</td>\n",
              "      <td>60.303555</td>\n",
              "      <td>497.187228</td>\n",
              "      <td>15.569531</td>\n",
              "      <td>59</td>\n",
              "      <td>2774</td>\n",
              "      <td>68.117081</td>\n",
              "      <td>73</td>\n",
              "      <td>Male</td>\n",
              "      <td>Never smoked</td>\n",
              "    </tr>\n",
              "  </tbody>\n",
              "</table>\n",
              "<p>1524 rows × 11 columns</p>\n",
              "</div>"
            ],
            "text/plain": [
              "                        Patient  img_mean_mean  ...   Sex  SmokingStatus\n",
              "0     ID00007637202177411956430      97.884207  ...  Male      Ex-smoker\n",
              "1     ID00007637202177411956430      97.884207  ...  Male      Ex-smoker\n",
              "2     ID00007637202177411956430      97.884207  ...  Male      Ex-smoker\n",
              "3     ID00007637202177411956430      97.884207  ...  Male      Ex-smoker\n",
              "4     ID00007637202177411956430      97.884207  ...  Male      Ex-smoker\n",
              "...                         ...            ...  ...   ...            ...\n",
              "1519  ID00426637202313170790466     535.176502  ...  Male   Never smoked\n",
              "1520  ID00426637202313170790466     535.176502  ...  Male   Never smoked\n",
              "1521  ID00426637202313170790466     535.176502  ...  Male   Never smoked\n",
              "1522  ID00426637202313170790466     535.176502  ...  Male   Never smoked\n",
              "1523  ID00426637202313170790466     535.176502  ...  Male   Never smoked\n",
              "\n",
              "[1524 rows x 11 columns]"
            ]
          },
          "metadata": {
            "tags": []
          },
          "execution_count": 17
        }
      ]
    },
    {
      "cell_type": "code",
      "metadata": {
        "id": "FChEMxamkc5I",
        "colab_type": "code",
        "colab": {
          "base_uri": "https://localhost:8080/",
          "height": 67
        },
        "outputId": "4c739d7e-44e3-48f9-dd9a-5fddfa7eaafb"
      },
      "source": [
        "df_patient.Sex.value_counts()"
      ],
      "execution_count": null,
      "outputs": [
        {
          "output_type": "execute_result",
          "data": {
            "text/plain": [
              "Male      1206\n",
              "Female     318\n",
              "Name: Sex, dtype: int64"
            ]
          },
          "metadata": {
            "tags": []
          },
          "execution_count": 18
        }
      ]
    },
    {
      "cell_type": "code",
      "metadata": {
        "id": "esbGnXfTkfo2",
        "colab_type": "code",
        "colab": {
          "base_uri": "https://localhost:8080/",
          "height": 84
        },
        "outputId": "19c71a3c-851d-421d-d3d5-a96556d5b432"
      },
      "source": [
        "df_patient.SmokingStatus.value_counts()"
      ],
      "execution_count": null,
      "outputs": [
        {
          "output_type": "execute_result",
          "data": {
            "text/plain": [
              "Ex-smoker           1020\n",
              "Never smoked         422\n",
              "Currently smokes      82\n",
              "Name: SmokingStatus, dtype: int64"
            ]
          },
          "metadata": {
            "tags": []
          },
          "execution_count": 19
        }
      ]
    },
    {
      "cell_type": "code",
      "metadata": {
        "id": "JNbVvKwelQPx",
        "colab_type": "code",
        "colab": {}
      },
      "source": [
        "sex_dummies = pd.get_dummies(df_patient.Sex)\n",
        "smoking_dummies = pd.get_dummies(df_patient.SmokingStatus)\n",
        "df = pd.concat([df_patient, sex_dummies, smoking_dummies], axis=1)\n",
        "df.drop(columns=['Sex', 'SmokingStatus'], inplace=True)"
      ],
      "execution_count": null,
      "outputs": []
    },
    {
      "cell_type": "code",
      "metadata": {
        "id": "PA7YQySMm9Ws",
        "colab_type": "code",
        "colab": {
          "base_uri": "https://localhost:8080/",
          "height": 232
        },
        "outputId": "ac98aaaf-84e8-4b50-e149-a92e11035201"
      },
      "source": [
        "df.head()"
      ],
      "execution_count": null,
      "outputs": [
        {
          "output_type": "execute_result",
          "data": {
            "text/html": [
              "<div>\n",
              "<style scoped>\n",
              "    .dataframe tbody tr th:only-of-type {\n",
              "        vertical-align: middle;\n",
              "    }\n",
              "\n",
              "    .dataframe tbody tr th {\n",
              "        vertical-align: top;\n",
              "    }\n",
              "\n",
              "    .dataframe thead th {\n",
              "        text-align: right;\n",
              "    }\n",
              "</style>\n",
              "<table border=\"1\" class=\"dataframe\">\n",
              "  <thead>\n",
              "    <tr style=\"text-align: right;\">\n",
              "      <th></th>\n",
              "      <th>Patient</th>\n",
              "      <th>img_mean_mean</th>\n",
              "      <th>img_mean_std</th>\n",
              "      <th>img_std_mean</th>\n",
              "      <th>img_std_std</th>\n",
              "      <th>Weeks</th>\n",
              "      <th>FVC</th>\n",
              "      <th>Percent</th>\n",
              "      <th>Age</th>\n",
              "      <th>Female</th>\n",
              "      <th>Male</th>\n",
              "      <th>Currently smokes</th>\n",
              "      <th>Ex-smoker</th>\n",
              "      <th>Never smoked</th>\n",
              "    </tr>\n",
              "  </thead>\n",
              "  <tbody>\n",
              "    <tr>\n",
              "      <th>0</th>\n",
              "      <td>ID00007637202177411956430</td>\n",
              "      <td>97.884207</td>\n",
              "      <td>74.27291</td>\n",
              "      <td>1175.873703</td>\n",
              "      <td>28.845099</td>\n",
              "      <td>-4</td>\n",
              "      <td>2315</td>\n",
              "      <td>58.253649</td>\n",
              "      <td>79</td>\n",
              "      <td>0</td>\n",
              "      <td>1</td>\n",
              "      <td>0</td>\n",
              "      <td>1</td>\n",
              "      <td>0</td>\n",
              "    </tr>\n",
              "    <tr>\n",
              "      <th>1</th>\n",
              "      <td>ID00007637202177411956430</td>\n",
              "      <td>97.884207</td>\n",
              "      <td>74.27291</td>\n",
              "      <td>1175.873703</td>\n",
              "      <td>28.845099</td>\n",
              "      <td>5</td>\n",
              "      <td>2214</td>\n",
              "      <td>55.712129</td>\n",
              "      <td>79</td>\n",
              "      <td>0</td>\n",
              "      <td>1</td>\n",
              "      <td>0</td>\n",
              "      <td>1</td>\n",
              "      <td>0</td>\n",
              "    </tr>\n",
              "    <tr>\n",
              "      <th>2</th>\n",
              "      <td>ID00007637202177411956430</td>\n",
              "      <td>97.884207</td>\n",
              "      <td>74.27291</td>\n",
              "      <td>1175.873703</td>\n",
              "      <td>28.845099</td>\n",
              "      <td>7</td>\n",
              "      <td>2061</td>\n",
              "      <td>51.862104</td>\n",
              "      <td>79</td>\n",
              "      <td>0</td>\n",
              "      <td>1</td>\n",
              "      <td>0</td>\n",
              "      <td>1</td>\n",
              "      <td>0</td>\n",
              "    </tr>\n",
              "    <tr>\n",
              "      <th>3</th>\n",
              "      <td>ID00007637202177411956430</td>\n",
              "      <td>97.884207</td>\n",
              "      <td>74.27291</td>\n",
              "      <td>1175.873703</td>\n",
              "      <td>28.845099</td>\n",
              "      <td>9</td>\n",
              "      <td>2144</td>\n",
              "      <td>53.950679</td>\n",
              "      <td>79</td>\n",
              "      <td>0</td>\n",
              "      <td>1</td>\n",
              "      <td>0</td>\n",
              "      <td>1</td>\n",
              "      <td>0</td>\n",
              "    </tr>\n",
              "    <tr>\n",
              "      <th>4</th>\n",
              "      <td>ID00007637202177411956430</td>\n",
              "      <td>97.884207</td>\n",
              "      <td>74.27291</td>\n",
              "      <td>1175.873703</td>\n",
              "      <td>28.845099</td>\n",
              "      <td>11</td>\n",
              "      <td>2069</td>\n",
              "      <td>52.063412</td>\n",
              "      <td>79</td>\n",
              "      <td>0</td>\n",
              "      <td>1</td>\n",
              "      <td>0</td>\n",
              "      <td>1</td>\n",
              "      <td>0</td>\n",
              "    </tr>\n",
              "  </tbody>\n",
              "</table>\n",
              "</div>"
            ],
            "text/plain": [
              "                     Patient  img_mean_mean  ...  Ex-smoker  Never smoked\n",
              "0  ID00007637202177411956430      97.884207  ...          1             0\n",
              "1  ID00007637202177411956430      97.884207  ...          1             0\n",
              "2  ID00007637202177411956430      97.884207  ...          1             0\n",
              "3  ID00007637202177411956430      97.884207  ...          1             0\n",
              "4  ID00007637202177411956430      97.884207  ...          1             0\n",
              "\n",
              "[5 rows x 14 columns]"
            ]
          },
          "metadata": {
            "tags": []
          },
          "execution_count": 21
        }
      ]
    },
    {
      "cell_type": "code",
      "metadata": {
        "id": "Ic8aOOJJn3u5",
        "colab_type": "code",
        "colab": {}
      },
      "source": [
        "df_rf = df.drop(columns=['Patient'])"
      ],
      "execution_count": null,
      "outputs": []
    },
    {
      "cell_type": "code",
      "metadata": {
        "id": "GZvhQwVysT06",
        "colab_type": "code",
        "colab": {
          "base_uri": "https://localhost:8080/",
          "height": 438
        },
        "outputId": "e3ecafca-0b54-419d-b707-1eb0a85f877d"
      },
      "source": [
        "df_rf"
      ],
      "execution_count": null,
      "outputs": [
        {
          "output_type": "execute_result",
          "data": {
            "text/html": [
              "<div>\n",
              "<style scoped>\n",
              "    .dataframe tbody tr th:only-of-type {\n",
              "        vertical-align: middle;\n",
              "    }\n",
              "\n",
              "    .dataframe tbody tr th {\n",
              "        vertical-align: top;\n",
              "    }\n",
              "\n",
              "    .dataframe thead th {\n",
              "        text-align: right;\n",
              "    }\n",
              "</style>\n",
              "<table border=\"1\" class=\"dataframe\">\n",
              "  <thead>\n",
              "    <tr style=\"text-align: right;\">\n",
              "      <th></th>\n",
              "      <th>img_mean_mean</th>\n",
              "      <th>img_mean_std</th>\n",
              "      <th>img_std_mean</th>\n",
              "      <th>img_std_std</th>\n",
              "      <th>Weeks</th>\n",
              "      <th>FVC</th>\n",
              "      <th>Percent</th>\n",
              "      <th>Age</th>\n",
              "      <th>Female</th>\n",
              "      <th>Male</th>\n",
              "      <th>Currently smokes</th>\n",
              "      <th>Ex-smoker</th>\n",
              "      <th>Never smoked</th>\n",
              "    </tr>\n",
              "  </thead>\n",
              "  <tbody>\n",
              "    <tr>\n",
              "      <th>0</th>\n",
              "      <td>97.884207</td>\n",
              "      <td>74.272910</td>\n",
              "      <td>1175.873703</td>\n",
              "      <td>28.845099</td>\n",
              "      <td>-4</td>\n",
              "      <td>2315</td>\n",
              "      <td>58.253649</td>\n",
              "      <td>79</td>\n",
              "      <td>0</td>\n",
              "      <td>1</td>\n",
              "      <td>0</td>\n",
              "      <td>1</td>\n",
              "      <td>0</td>\n",
              "    </tr>\n",
              "    <tr>\n",
              "      <th>1</th>\n",
              "      <td>97.884207</td>\n",
              "      <td>74.272910</td>\n",
              "      <td>1175.873703</td>\n",
              "      <td>28.845099</td>\n",
              "      <td>5</td>\n",
              "      <td>2214</td>\n",
              "      <td>55.712129</td>\n",
              "      <td>79</td>\n",
              "      <td>0</td>\n",
              "      <td>1</td>\n",
              "      <td>0</td>\n",
              "      <td>1</td>\n",
              "      <td>0</td>\n",
              "    </tr>\n",
              "    <tr>\n",
              "      <th>2</th>\n",
              "      <td>97.884207</td>\n",
              "      <td>74.272910</td>\n",
              "      <td>1175.873703</td>\n",
              "      <td>28.845099</td>\n",
              "      <td>7</td>\n",
              "      <td>2061</td>\n",
              "      <td>51.862104</td>\n",
              "      <td>79</td>\n",
              "      <td>0</td>\n",
              "      <td>1</td>\n",
              "      <td>0</td>\n",
              "      <td>1</td>\n",
              "      <td>0</td>\n",
              "    </tr>\n",
              "    <tr>\n",
              "      <th>3</th>\n",
              "      <td>97.884207</td>\n",
              "      <td>74.272910</td>\n",
              "      <td>1175.873703</td>\n",
              "      <td>28.845099</td>\n",
              "      <td>9</td>\n",
              "      <td>2144</td>\n",
              "      <td>53.950679</td>\n",
              "      <td>79</td>\n",
              "      <td>0</td>\n",
              "      <td>1</td>\n",
              "      <td>0</td>\n",
              "      <td>1</td>\n",
              "      <td>0</td>\n",
              "    </tr>\n",
              "    <tr>\n",
              "      <th>4</th>\n",
              "      <td>97.884207</td>\n",
              "      <td>74.272910</td>\n",
              "      <td>1175.873703</td>\n",
              "      <td>28.845099</td>\n",
              "      <td>11</td>\n",
              "      <td>2069</td>\n",
              "      <td>52.063412</td>\n",
              "      <td>79</td>\n",
              "      <td>0</td>\n",
              "      <td>1</td>\n",
              "      <td>0</td>\n",
              "      <td>1</td>\n",
              "      <td>0</td>\n",
              "    </tr>\n",
              "    <tr>\n",
              "      <th>...</th>\n",
              "      <td>...</td>\n",
              "      <td>...</td>\n",
              "      <td>...</td>\n",
              "      <td>...</td>\n",
              "      <td>...</td>\n",
              "      <td>...</td>\n",
              "      <td>...</td>\n",
              "      <td>...</td>\n",
              "      <td>...</td>\n",
              "      <td>...</td>\n",
              "      <td>...</td>\n",
              "      <td>...</td>\n",
              "      <td>...</td>\n",
              "    </tr>\n",
              "    <tr>\n",
              "      <th>1519</th>\n",
              "      <td>535.176502</td>\n",
              "      <td>60.303555</td>\n",
              "      <td>497.187228</td>\n",
              "      <td>15.569531</td>\n",
              "      <td>13</td>\n",
              "      <td>2712</td>\n",
              "      <td>66.594637</td>\n",
              "      <td>73</td>\n",
              "      <td>0</td>\n",
              "      <td>1</td>\n",
              "      <td>0</td>\n",
              "      <td>0</td>\n",
              "      <td>1</td>\n",
              "    </tr>\n",
              "    <tr>\n",
              "      <th>1520</th>\n",
              "      <td>535.176502</td>\n",
              "      <td>60.303555</td>\n",
              "      <td>497.187228</td>\n",
              "      <td>15.569531</td>\n",
              "      <td>19</td>\n",
              "      <td>2978</td>\n",
              "      <td>73.126412</td>\n",
              "      <td>73</td>\n",
              "      <td>0</td>\n",
              "      <td>1</td>\n",
              "      <td>0</td>\n",
              "      <td>0</td>\n",
              "      <td>1</td>\n",
              "    </tr>\n",
              "    <tr>\n",
              "      <th>1521</th>\n",
              "      <td>535.176502</td>\n",
              "      <td>60.303555</td>\n",
              "      <td>497.187228</td>\n",
              "      <td>15.569531</td>\n",
              "      <td>31</td>\n",
              "      <td>2908</td>\n",
              "      <td>71.407524</td>\n",
              "      <td>73</td>\n",
              "      <td>0</td>\n",
              "      <td>1</td>\n",
              "      <td>0</td>\n",
              "      <td>0</td>\n",
              "      <td>1</td>\n",
              "    </tr>\n",
              "    <tr>\n",
              "      <th>1522</th>\n",
              "      <td>535.176502</td>\n",
              "      <td>60.303555</td>\n",
              "      <td>497.187228</td>\n",
              "      <td>15.569531</td>\n",
              "      <td>43</td>\n",
              "      <td>2975</td>\n",
              "      <td>73.052745</td>\n",
              "      <td>73</td>\n",
              "      <td>0</td>\n",
              "      <td>1</td>\n",
              "      <td>0</td>\n",
              "      <td>0</td>\n",
              "      <td>1</td>\n",
              "    </tr>\n",
              "    <tr>\n",
              "      <th>1523</th>\n",
              "      <td>535.176502</td>\n",
              "      <td>60.303555</td>\n",
              "      <td>497.187228</td>\n",
              "      <td>15.569531</td>\n",
              "      <td>59</td>\n",
              "      <td>2774</td>\n",
              "      <td>68.117081</td>\n",
              "      <td>73</td>\n",
              "      <td>0</td>\n",
              "      <td>1</td>\n",
              "      <td>0</td>\n",
              "      <td>0</td>\n",
              "      <td>1</td>\n",
              "    </tr>\n",
              "  </tbody>\n",
              "</table>\n",
              "<p>1524 rows × 13 columns</p>\n",
              "</div>"
            ],
            "text/plain": [
              "      img_mean_mean  img_mean_std  ...  Ex-smoker  Never smoked\n",
              "0         97.884207     74.272910  ...          1             0\n",
              "1         97.884207     74.272910  ...          1             0\n",
              "2         97.884207     74.272910  ...          1             0\n",
              "3         97.884207     74.272910  ...          1             0\n",
              "4         97.884207     74.272910  ...          1             0\n",
              "...             ...           ...  ...        ...           ...\n",
              "1519     535.176502     60.303555  ...          0             1\n",
              "1520     535.176502     60.303555  ...          0             1\n",
              "1521     535.176502     60.303555  ...          0             1\n",
              "1522     535.176502     60.303555  ...          0             1\n",
              "1523     535.176502     60.303555  ...          0             1\n",
              "\n",
              "[1524 rows x 13 columns]"
            ]
          },
          "metadata": {
            "tags": []
          },
          "execution_count": 23
        }
      ]
    },
    {
      "cell_type": "code",
      "metadata": {
        "id": "1OsrG1I_sUYB",
        "colab_type": "code",
        "colab": {}
      },
      "source": [
        "X = df_rf.drop(columns=['FVC'])\n",
        "y = df_rf['FVC']"
      ],
      "execution_count": null,
      "outputs": []
    },
    {
      "cell_type": "code",
      "metadata": {
        "id": "gKpiURsGsgE2",
        "colab_type": "code",
        "colab": {
          "base_uri": "https://localhost:8080/",
          "height": 232
        },
        "outputId": "fe56c285-09f8-477a-a072-78464010eb4f"
      },
      "source": [
        "X.head()"
      ],
      "execution_count": null,
      "outputs": [
        {
          "output_type": "execute_result",
          "data": {
            "text/html": [
              "<div>\n",
              "<style scoped>\n",
              "    .dataframe tbody tr th:only-of-type {\n",
              "        vertical-align: middle;\n",
              "    }\n",
              "\n",
              "    .dataframe tbody tr th {\n",
              "        vertical-align: top;\n",
              "    }\n",
              "\n",
              "    .dataframe thead th {\n",
              "        text-align: right;\n",
              "    }\n",
              "</style>\n",
              "<table border=\"1\" class=\"dataframe\">\n",
              "  <thead>\n",
              "    <tr style=\"text-align: right;\">\n",
              "      <th></th>\n",
              "      <th>img_mean_mean</th>\n",
              "      <th>img_mean_std</th>\n",
              "      <th>img_std_mean</th>\n",
              "      <th>img_std_std</th>\n",
              "      <th>Weeks</th>\n",
              "      <th>Percent</th>\n",
              "      <th>Age</th>\n",
              "      <th>Female</th>\n",
              "      <th>Male</th>\n",
              "      <th>Currently smokes</th>\n",
              "      <th>Ex-smoker</th>\n",
              "      <th>Never smoked</th>\n",
              "    </tr>\n",
              "  </thead>\n",
              "  <tbody>\n",
              "    <tr>\n",
              "      <th>0</th>\n",
              "      <td>97.884207</td>\n",
              "      <td>74.27291</td>\n",
              "      <td>1175.873703</td>\n",
              "      <td>28.845099</td>\n",
              "      <td>-4</td>\n",
              "      <td>58.253649</td>\n",
              "      <td>79</td>\n",
              "      <td>0</td>\n",
              "      <td>1</td>\n",
              "      <td>0</td>\n",
              "      <td>1</td>\n",
              "      <td>0</td>\n",
              "    </tr>\n",
              "    <tr>\n",
              "      <th>1</th>\n",
              "      <td>97.884207</td>\n",
              "      <td>74.27291</td>\n",
              "      <td>1175.873703</td>\n",
              "      <td>28.845099</td>\n",
              "      <td>5</td>\n",
              "      <td>55.712129</td>\n",
              "      <td>79</td>\n",
              "      <td>0</td>\n",
              "      <td>1</td>\n",
              "      <td>0</td>\n",
              "      <td>1</td>\n",
              "      <td>0</td>\n",
              "    </tr>\n",
              "    <tr>\n",
              "      <th>2</th>\n",
              "      <td>97.884207</td>\n",
              "      <td>74.27291</td>\n",
              "      <td>1175.873703</td>\n",
              "      <td>28.845099</td>\n",
              "      <td>7</td>\n",
              "      <td>51.862104</td>\n",
              "      <td>79</td>\n",
              "      <td>0</td>\n",
              "      <td>1</td>\n",
              "      <td>0</td>\n",
              "      <td>1</td>\n",
              "      <td>0</td>\n",
              "    </tr>\n",
              "    <tr>\n",
              "      <th>3</th>\n",
              "      <td>97.884207</td>\n",
              "      <td>74.27291</td>\n",
              "      <td>1175.873703</td>\n",
              "      <td>28.845099</td>\n",
              "      <td>9</td>\n",
              "      <td>53.950679</td>\n",
              "      <td>79</td>\n",
              "      <td>0</td>\n",
              "      <td>1</td>\n",
              "      <td>0</td>\n",
              "      <td>1</td>\n",
              "      <td>0</td>\n",
              "    </tr>\n",
              "    <tr>\n",
              "      <th>4</th>\n",
              "      <td>97.884207</td>\n",
              "      <td>74.27291</td>\n",
              "      <td>1175.873703</td>\n",
              "      <td>28.845099</td>\n",
              "      <td>11</td>\n",
              "      <td>52.063412</td>\n",
              "      <td>79</td>\n",
              "      <td>0</td>\n",
              "      <td>1</td>\n",
              "      <td>0</td>\n",
              "      <td>1</td>\n",
              "      <td>0</td>\n",
              "    </tr>\n",
              "  </tbody>\n",
              "</table>\n",
              "</div>"
            ],
            "text/plain": [
              "   img_mean_mean  img_mean_std  ...  Ex-smoker  Never smoked\n",
              "0      97.884207      74.27291  ...          1             0\n",
              "1      97.884207      74.27291  ...          1             0\n",
              "2      97.884207      74.27291  ...          1             0\n",
              "3      97.884207      74.27291  ...          1             0\n",
              "4      97.884207      74.27291  ...          1             0\n",
              "\n",
              "[5 rows x 12 columns]"
            ]
          },
          "metadata": {
            "tags": []
          },
          "execution_count": 25
        }
      ]
    },
    {
      "cell_type": "code",
      "metadata": {
        "id": "qqHaz93Jsk2i",
        "colab_type": "code",
        "colab": {
          "base_uri": "https://localhost:8080/",
          "height": 118
        },
        "outputId": "8c7ced1c-df59-4793-ad95-61cd94fbe8ce"
      },
      "source": [
        "y.head()"
      ],
      "execution_count": null,
      "outputs": [
        {
          "output_type": "execute_result",
          "data": {
            "text/plain": [
              "0    2315\n",
              "1    2214\n",
              "2    2061\n",
              "3    2144\n",
              "4    2069\n",
              "Name: FVC, dtype: int64"
            ]
          },
          "metadata": {
            "tags": []
          },
          "execution_count": 26
        }
      ]
    },
    {
      "cell_type": "code",
      "metadata": {
        "id": "3wrTf-v1smMr",
        "colab_type": "code",
        "colab": {}
      },
      "source": [
        "from sklearn.model_selection import train_test_split\n",
        "X_train, X_test, y_train, y_test = train_test_split(X, y, test_size=0.2, random_state=0)"
      ],
      "execution_count": null,
      "outputs": []
    },
    {
      "cell_type": "code",
      "metadata": {
        "id": "S5qGtTpJMeiO",
        "colab_type": "code",
        "colab": {
          "base_uri": "https://localhost:8080/",
          "height": 134
        },
        "outputId": "8cde9a8a-d285-40e9-bb5a-5c17effbcf53"
      },
      "source": [
        "from sklearn.ensemble import RandomForestRegressor\n",
        "regr = RandomForestRegressor(max_depth=10, random_state=0)\n",
        "regr.fit(X_train, y_train)"
      ],
      "execution_count": null,
      "outputs": [
        {
          "output_type": "execute_result",
          "data": {
            "text/plain": [
              "RandomForestRegressor(bootstrap=True, ccp_alpha=0.0, criterion='mse',\n",
              "                      max_depth=10, max_features='auto', max_leaf_nodes=None,\n",
              "                      max_samples=None, min_impurity_decrease=0.0,\n",
              "                      min_impurity_split=None, min_samples_leaf=1,\n",
              "                      min_samples_split=2, min_weight_fraction_leaf=0.0,\n",
              "                      n_estimators=100, n_jobs=None, oob_score=False,\n",
              "                      random_state=0, verbose=0, warm_start=False)"
            ]
          },
          "metadata": {
            "tags": []
          },
          "execution_count": 29
        }
      ]
    },
    {
      "cell_type": "code",
      "metadata": {
        "id": "4n_QAbSKM8AM",
        "colab_type": "code",
        "colab": {}
      },
      "source": [
        "y_predict = regr.predict(X_test)"
      ],
      "execution_count": null,
      "outputs": []
    },
    {
      "cell_type": "markdown",
      "metadata": {
        "id": "I7PO6DJ2KGlv",
        "colab_type": "text"
      },
      "source": [
        ""
      ]
    },
    {
      "cell_type": "code",
      "metadata": {
        "id": "ZpFRfwZmNSlr",
        "colab_type": "code",
        "colab": {
          "base_uri": "https://localhost:8080/",
          "height": 34
        },
        "outputId": "f64db8ca-eaa9-4b69-93a4-432f74a544e8"
      },
      "source": [
        "y_predict.shape"
      ],
      "execution_count": null,
      "outputs": [
        {
          "output_type": "execute_result",
          "data": {
            "text/plain": [
              "(305,)"
            ]
          },
          "metadata": {
            "tags": []
          },
          "execution_count": 33
        }
      ]
    },
    {
      "cell_type": "code",
      "metadata": {
        "id": "hvsvb_AKNVB4",
        "colab_type": "code",
        "colab": {
          "base_uri": "https://localhost:8080/",
          "height": 34
        },
        "outputId": "5dc7f94c-2636-46ba-dd9d-7ed6e24342e2"
      },
      "source": [
        "regr.score(X_test, y_test)"
      ],
      "execution_count": null,
      "outputs": [
        {
          "output_type": "execute_result",
          "data": {
            "text/plain": [
              "0.9769096544292526"
            ]
          },
          "metadata": {
            "tags": []
          },
          "execution_count": 36
        }
      ]
    },
    {
      "cell_type": "code",
      "metadata": {
        "id": "GuMvNufZNY7U",
        "colab_type": "code",
        "colab": {
          "base_uri": "https://localhost:8080/",
          "height": 162
        },
        "outputId": "375980ef-ae1e-4873-93a1-b6f87c593c77"
      },
      "source": [
        "predictions = regr.predict_proba(X_test)"
      ],
      "execution_count": null,
      "outputs": [
        {
          "output_type": "error",
          "ename": "AttributeError",
          "evalue": "ignored",
          "traceback": [
            "\u001b[0;31m---------------------------------------------------------------------------\u001b[0m",
            "\u001b[0;31mAttributeError\u001b[0m                            Traceback (most recent call last)",
            "\u001b[0;32m<ipython-input-38-5b5f197e1219>\u001b[0m in \u001b[0;36m<module>\u001b[0;34m()\u001b[0m\n\u001b[0;32m----> 1\u001b[0;31m \u001b[0mpredictions\u001b[0m \u001b[0;34m=\u001b[0m \u001b[0mregr\u001b[0m\u001b[0;34m.\u001b[0m\u001b[0mpredict_proba\u001b[0m\u001b[0;34m(\u001b[0m\u001b[0mX_test\u001b[0m\u001b[0;34m)\u001b[0m\u001b[0;34m\u001b[0m\u001b[0;34m\u001b[0m\u001b[0m\n\u001b[0m",
            "\u001b[0;31mAttributeError\u001b[0m: 'RandomForestRegressor' object has no attribute 'predict_proba'"
          ]
        }
      ]
    },
    {
      "cell_type": "code",
      "metadata": {
        "id": "_NTanqrJUasL",
        "colab_type": "code",
        "colab": {}
      },
      "source": [
        ""
      ],
      "execution_count": null,
      "outputs": []
    }
  ]
}