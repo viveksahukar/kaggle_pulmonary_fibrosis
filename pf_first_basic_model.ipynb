{
  "nbformat": 4,
  "nbformat_minor": 0,
  "metadata": {
    "colab": {
      "name": "pf_first_basic_model",
      "provenance": [],
      "collapsed_sections": [],
      "machine_shape": "hm",
      "include_colab_link": true
    },
    "kernelspec": {
      "name": "python3",
      "display_name": "Python 3"
    },
    "accelerator": "GPU"
  },
  "cells": [
    {
      "cell_type": "markdown",
      "metadata": {
        "id": "view-in-github",
        "colab_type": "text"
      },
      "source": [
        "<a href=\"https://colab.research.google.com/github/viveksahukar/kaggle_pulmonary_fibrosis/blob/master/pf_first_basic_model.ipynb\" target=\"_parent\"><img src=\"https://colab.research.google.com/assets/colab-badge.svg\" alt=\"Open In Colab\"/></a>"
      ]
    },
    {
      "cell_type": "code",
      "metadata": {
        "id": "7vlvU54Diy_Z",
        "colab_type": "code",
        "colab": {}
      },
      "source": [
        "import torch as th\n",
        "import numpy as np\n",
        "import scipy as sp\n",
        "import matplotlib.pyplot as plt\n",
        "import pandas as pd"
      ],
      "execution_count": null,
      "outputs": []
    },
    {
      "cell_type": "code",
      "metadata": {
        "id": "5_cWsjWGjlJD",
        "colab_type": "code",
        "colab": {
          "base_uri": "https://localhost:8080/",
          "height": 35
        },
        "outputId": "9b458d4a-9a5c-45c5-cb71-85f928db113f"
      },
      "source": [
        "from google.colab import drive\n",
        "drive.mount('/content/gdrive')"
      ],
      "execution_count": null,
      "outputs": [
        {
          "output_type": "stream",
          "text": [
            "Mounted at /content/gdrive\n"
          ],
          "name": "stdout"
        }
      ]
    },
    {
      "cell_type": "code",
      "metadata": {
        "id": "GDy7yJbyjol7",
        "colab_type": "code",
        "colab": {}
      },
      "source": [
        "# Set path to the data\n",
        "import os\n",
        "os.chdir('/content/gdrive/My Drive/colab_work_DS/kaggle_pf/')"
      ],
      "execution_count": null,
      "outputs": []
    },
    {
      "cell_type": "code",
      "metadata": {
        "id": "7rRcjE6kmGJ2",
        "colab_type": "code",
        "colab": {}
      },
      "source": [
        "meta = pd.read_csv('meta_data.csv')"
      ],
      "execution_count": null,
      "outputs": []
    },
    {
      "cell_type": "code",
      "metadata": {
        "id": "45RsC1B5mSJU",
        "colab_type": "code",
        "colab": {
          "base_uri": "https://localhost:8080/",
          "height": 225
        },
        "outputId": "bfc6106b-e5e0-4dfa-b2d1-edb4236aa46e"
      },
      "source": [
        "meta.Patient.value_counts()"
      ],
      "execution_count": null,
      "outputs": [
        {
          "output_type": "execute_result",
          "data": {
            "text/plain": [
              "ID00078637202199415319443    1018\n",
              "ID00202637202249376026949     825\n",
              "ID00173637202238329754031     602\n",
              "ID00180637202240177410333     577\n",
              "ID00035637202182204917484     574\n",
              "                             ... \n",
              "ID00214637202257820847190      18\n",
              "ID00126637202218610655908      17\n",
              "ID00229637202260254240583      17\n",
              "ID00248637202266698862378      16\n",
              "ID00165637202237320314458      12\n",
              "Name: Patient, Length: 173, dtype: int64"
            ]
          },
          "metadata": {
            "tags": []
          },
          "execution_count": 8
        }
      ]
    },
    {
      "cell_type": "code",
      "metadata": {
        "id": "GcTIH63ImeYl",
        "colab_type": "code",
        "colab": {}
      },
      "source": [
        "train = pd.read_csv('train.csv')"
      ],
      "execution_count": null,
      "outputs": []
    },
    {
      "cell_type": "code",
      "metadata": {
        "id": "x6d_g23UmthC",
        "colab_type": "code",
        "colab": {
          "base_uri": "https://localhost:8080/",
          "height": 225
        },
        "outputId": "4e21d308-6fe7-4a29-be6d-edbddad4241f"
      },
      "source": [
        "train.Patient.value_counts()"
      ],
      "execution_count": null,
      "outputs": [
        {
          "output_type": "execute_result",
          "data": {
            "text/plain": [
              "ID00421637202311550012437    10\n",
              "ID00140637202231728595149    10\n",
              "ID00343637202287577133798    10\n",
              "ID00119637202215426335765    10\n",
              "ID00167637202237397919352    10\n",
              "                             ..\n",
              "ID00344637202287684217717     7\n",
              "ID00276637202271694539978     7\n",
              "ID00111637202210956877205     7\n",
              "ID00047637202184938901501     6\n",
              "ID00267637202270790561585     6\n",
              "Name: Patient, Length: 176, dtype: int64"
            ]
          },
          "metadata": {
            "tags": []
          },
          "execution_count": 11
        }
      ]
    },
    {
      "cell_type": "code",
      "metadata": {
        "id": "-mpe0r1YoZTG",
        "colab_type": "code",
        "colab": {
          "base_uri": "https://localhost:8080/",
          "height": 52
        },
        "outputId": "c7e1f6af-3c00-41c0-ba1e-82234825736a"
      },
      "source": [
        "pid = 'ID00007637202177411956430'\n",
        "train[train.Patient == pid].Patient.value_counts()"
      ],
      "execution_count": null,
      "outputs": [
        {
          "output_type": "execute_result",
          "data": {
            "text/plain": [
              "ID00007637202177411956430    9\n",
              "Name: Patient, dtype: int64"
            ]
          },
          "metadata": {
            "tags": []
          },
          "execution_count": 12
        }
      ]
    },
    {
      "cell_type": "code",
      "metadata": {
        "id": "aqP15gSSouJy",
        "colab_type": "code",
        "colab": {
          "base_uri": "https://localhost:8080/",
          "height": 52
        },
        "outputId": "1d9f9e22-843e-4cf3-a96f-a3637a2644d4"
      },
      "source": [
        "meta[meta.Patient == pid].Patient.value_counts()"
      ],
      "execution_count": null,
      "outputs": [
        {
          "output_type": "execute_result",
          "data": {
            "text/plain": [
              "ID00007637202177411956430    30\n",
              "Name: Patient, dtype: int64"
            ]
          },
          "metadata": {
            "tags": []
          },
          "execution_count": 13
        }
      ]
    },
    {
      "cell_type": "code",
      "metadata": {
        "id": "_vvpZhBYp5QZ",
        "colab_type": "code",
        "colab": {}
      },
      "source": [
        "df_meta = meta.groupby(['Patient']).agg(\n",
        "    {\n",
        "     'img_mean': ['mean', 'std'],\n",
        "     'img_std':['mean', 'std']\n",
        "    }\n",
        ")\n",
        "df_meta.columns = df_meta.columns.map('_'.join)\n",
        "df_meta = df_meta.reset_index()"
      ],
      "execution_count": null,
      "outputs": []
    },
    {
      "cell_type": "code",
      "metadata": {
        "id": "XEtJyuVeoEdG",
        "colab_type": "code",
        "colab": {}
      },
      "source": [
        "df_patient = pd.merge(left=df_meta, right=train, how='left', on='Patient')"
      ],
      "execution_count": null,
      "outputs": []
    },
    {
      "cell_type": "code",
      "metadata": {
        "id": "V0Cm9KggGKWQ",
        "colab_type": "code",
        "colab": {
          "base_uri": "https://localhost:8080/",
          "height": 415
        },
        "outputId": "dbb71fbf-d22a-4c93-fc3b-79c68c67fbeb"
      },
      "source": [
        "df_patient"
      ],
      "execution_count": null,
      "outputs": [
        {
          "output_type": "execute_result",
          "data": {
            "text/html": [
              "<div>\n",
              "<style scoped>\n",
              "    .dataframe tbody tr th:only-of-type {\n",
              "        vertical-align: middle;\n",
              "    }\n",
              "\n",
              "    .dataframe tbody tr th {\n",
              "        vertical-align: top;\n",
              "    }\n",
              "\n",
              "    .dataframe thead th {\n",
              "        text-align: right;\n",
              "    }\n",
              "</style>\n",
              "<table border=\"1\" class=\"dataframe\">\n",
              "  <thead>\n",
              "    <tr style=\"text-align: right;\">\n",
              "      <th></th>\n",
              "      <th>Patient</th>\n",
              "      <th>img_mean_mean</th>\n",
              "      <th>img_mean_std</th>\n",
              "      <th>img_std_mean</th>\n",
              "      <th>img_std_std</th>\n",
              "      <th>Weeks</th>\n",
              "      <th>FVC</th>\n",
              "      <th>Percent</th>\n",
              "      <th>Age</th>\n",
              "      <th>Sex</th>\n",
              "      <th>SmokingStatus</th>\n",
              "    </tr>\n",
              "  </thead>\n",
              "  <tbody>\n",
              "    <tr>\n",
              "      <th>0</th>\n",
              "      <td>ID00007637202177411956430</td>\n",
              "      <td>97.884207</td>\n",
              "      <td>74.272910</td>\n",
              "      <td>1175.873702</td>\n",
              "      <td>28.845099</td>\n",
              "      <td>-4</td>\n",
              "      <td>2315</td>\n",
              "      <td>58.253649</td>\n",
              "      <td>79</td>\n",
              "      <td>Male</td>\n",
              "      <td>Ex-smoker</td>\n",
              "    </tr>\n",
              "    <tr>\n",
              "      <th>1</th>\n",
              "      <td>ID00007637202177411956430</td>\n",
              "      <td>97.884207</td>\n",
              "      <td>74.272910</td>\n",
              "      <td>1175.873702</td>\n",
              "      <td>28.845099</td>\n",
              "      <td>5</td>\n",
              "      <td>2214</td>\n",
              "      <td>55.712129</td>\n",
              "      <td>79</td>\n",
              "      <td>Male</td>\n",
              "      <td>Ex-smoker</td>\n",
              "    </tr>\n",
              "    <tr>\n",
              "      <th>2</th>\n",
              "      <td>ID00007637202177411956430</td>\n",
              "      <td>97.884207</td>\n",
              "      <td>74.272910</td>\n",
              "      <td>1175.873702</td>\n",
              "      <td>28.845099</td>\n",
              "      <td>7</td>\n",
              "      <td>2061</td>\n",
              "      <td>51.862104</td>\n",
              "      <td>79</td>\n",
              "      <td>Male</td>\n",
              "      <td>Ex-smoker</td>\n",
              "    </tr>\n",
              "    <tr>\n",
              "      <th>3</th>\n",
              "      <td>ID00007637202177411956430</td>\n",
              "      <td>97.884207</td>\n",
              "      <td>74.272910</td>\n",
              "      <td>1175.873702</td>\n",
              "      <td>28.845099</td>\n",
              "      <td>9</td>\n",
              "      <td>2144</td>\n",
              "      <td>53.950679</td>\n",
              "      <td>79</td>\n",
              "      <td>Male</td>\n",
              "      <td>Ex-smoker</td>\n",
              "    </tr>\n",
              "    <tr>\n",
              "      <th>4</th>\n",
              "      <td>ID00007637202177411956430</td>\n",
              "      <td>97.884207</td>\n",
              "      <td>74.272910</td>\n",
              "      <td>1175.873702</td>\n",
              "      <td>28.845099</td>\n",
              "      <td>11</td>\n",
              "      <td>2069</td>\n",
              "      <td>52.063412</td>\n",
              "      <td>79</td>\n",
              "      <td>Male</td>\n",
              "      <td>Ex-smoker</td>\n",
              "    </tr>\n",
              "    <tr>\n",
              "      <th>...</th>\n",
              "      <td>...</td>\n",
              "      <td>...</td>\n",
              "      <td>...</td>\n",
              "      <td>...</td>\n",
              "      <td>...</td>\n",
              "      <td>...</td>\n",
              "      <td>...</td>\n",
              "      <td>...</td>\n",
              "      <td>...</td>\n",
              "      <td>...</td>\n",
              "      <td>...</td>\n",
              "    </tr>\n",
              "    <tr>\n",
              "      <th>1519</th>\n",
              "      <td>ID00426637202313170790466</td>\n",
              "      <td>535.176502</td>\n",
              "      <td>60.303555</td>\n",
              "      <td>497.187228</td>\n",
              "      <td>15.569531</td>\n",
              "      <td>13</td>\n",
              "      <td>2712</td>\n",
              "      <td>66.594637</td>\n",
              "      <td>73</td>\n",
              "      <td>Male</td>\n",
              "      <td>Never smoked</td>\n",
              "    </tr>\n",
              "    <tr>\n",
              "      <th>1520</th>\n",
              "      <td>ID00426637202313170790466</td>\n",
              "      <td>535.176502</td>\n",
              "      <td>60.303555</td>\n",
              "      <td>497.187228</td>\n",
              "      <td>15.569531</td>\n",
              "      <td>19</td>\n",
              "      <td>2978</td>\n",
              "      <td>73.126412</td>\n",
              "      <td>73</td>\n",
              "      <td>Male</td>\n",
              "      <td>Never smoked</td>\n",
              "    </tr>\n",
              "    <tr>\n",
              "      <th>1521</th>\n",
              "      <td>ID00426637202313170790466</td>\n",
              "      <td>535.176502</td>\n",
              "      <td>60.303555</td>\n",
              "      <td>497.187228</td>\n",
              "      <td>15.569531</td>\n",
              "      <td>31</td>\n",
              "      <td>2908</td>\n",
              "      <td>71.407524</td>\n",
              "      <td>73</td>\n",
              "      <td>Male</td>\n",
              "      <td>Never smoked</td>\n",
              "    </tr>\n",
              "    <tr>\n",
              "      <th>1522</th>\n",
              "      <td>ID00426637202313170790466</td>\n",
              "      <td>535.176502</td>\n",
              "      <td>60.303555</td>\n",
              "      <td>497.187228</td>\n",
              "      <td>15.569531</td>\n",
              "      <td>43</td>\n",
              "      <td>2975</td>\n",
              "      <td>73.052745</td>\n",
              "      <td>73</td>\n",
              "      <td>Male</td>\n",
              "      <td>Never smoked</td>\n",
              "    </tr>\n",
              "    <tr>\n",
              "      <th>1523</th>\n",
              "      <td>ID00426637202313170790466</td>\n",
              "      <td>535.176502</td>\n",
              "      <td>60.303555</td>\n",
              "      <td>497.187228</td>\n",
              "      <td>15.569531</td>\n",
              "      <td>59</td>\n",
              "      <td>2774</td>\n",
              "      <td>68.117081</td>\n",
              "      <td>73</td>\n",
              "      <td>Male</td>\n",
              "      <td>Never smoked</td>\n",
              "    </tr>\n",
              "  </tbody>\n",
              "</table>\n",
              "<p>1524 rows × 11 columns</p>\n",
              "</div>"
            ],
            "text/plain": [
              "                        Patient  img_mean_mean  ...   Sex  SmokingStatus\n",
              "0     ID00007637202177411956430      97.884207  ...  Male      Ex-smoker\n",
              "1     ID00007637202177411956430      97.884207  ...  Male      Ex-smoker\n",
              "2     ID00007637202177411956430      97.884207  ...  Male      Ex-smoker\n",
              "3     ID00007637202177411956430      97.884207  ...  Male      Ex-smoker\n",
              "4     ID00007637202177411956430      97.884207  ...  Male      Ex-smoker\n",
              "...                         ...            ...  ...   ...            ...\n",
              "1519  ID00426637202313170790466     535.176502  ...  Male   Never smoked\n",
              "1520  ID00426637202313170790466     535.176502  ...  Male   Never smoked\n",
              "1521  ID00426637202313170790466     535.176502  ...  Male   Never smoked\n",
              "1522  ID00426637202313170790466     535.176502  ...  Male   Never smoked\n",
              "1523  ID00426637202313170790466     535.176502  ...  Male   Never smoked\n",
              "\n",
              "[1524 rows x 11 columns]"
            ]
          },
          "metadata": {
            "tags": []
          },
          "execution_count": 17
        }
      ]
    }
  ]
}